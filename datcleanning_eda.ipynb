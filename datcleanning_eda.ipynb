{
 "cells": [
  {
   "cell_type": "code",
   "execution_count": 1,
   "metadata": {},
   "outputs": [],
   "source": [
    "import pandas as pd"
   ]
  },
  {
   "cell_type": "code",
   "execution_count": 2,
   "metadata": {},
   "outputs": [],
   "source": [
    "import numpy as np"
   ]
  },
  {
   "cell_type": "code",
   "execution_count": 20,
   "metadata": {},
   "outputs": [],
   "source": [
    "df = pd.read_csv(\"C:/Users/Priyanshi/Downloads/movies.csv/movies.csv\")\n",
    "     "
   ]
  },
  {
   "cell_type": "code",
   "execution_count": 21,
   "metadata": {},
   "outputs": [
    {
     "name": "stdout",
     "output_type": "stream",
     "text": [
      "<class 'pandas.core.frame.DataFrame'>\n",
      "RangeIndex: 9999 entries, 0 to 9998\n",
      "Data columns (total 9 columns):\n",
      " #   Column    Non-Null Count  Dtype  \n",
      "---  ------    --------------  -----  \n",
      " 0   MOVIES    9999 non-null   object \n",
      " 1   YEAR      9355 non-null   object \n",
      " 2   GENRE     9919 non-null   object \n",
      " 3   RATING    8179 non-null   float64\n",
      " 4   ONE-LINE  9999 non-null   object \n",
      " 5   STARS     9999 non-null   object \n",
      " 6   VOTES     8179 non-null   object \n",
      " 7   RunTime   7041 non-null   float64\n",
      " 8   Gross     460 non-null    object \n",
      "dtypes: float64(2), object(7)\n",
      "memory usage: 703.2+ KB\n"
     ]
    }
   ],
   "source": [
    "df.info()"
   ]
  },
  {
   "cell_type": "code",
   "execution_count": null,
   "metadata": {},
   "outputs": [
    {
     "name": "stdout",
     "output_type": "stream",
     "text": [
      "MOVIES         0\n",
      "YEAR         644\n",
      "GENRE         80\n",
      "RATING      1820\n",
      "ONE-LINE       0\n",
      "STARS          0\n",
      "VOTES       1820\n",
      "RunTime     2958\n",
      "Gross       9539\n",
      "dtype: int64\n"
     ]
    }
   ],
   "source": [
    "print(df.isnull().sum())"
   ]
  },
  {
   "cell_type": "code",
   "execution_count": 24,
   "metadata": {},
   "outputs": [],
   "source": [
    "df['YEAR']=df['YEAR'].bfill()"
   ]
  },
  {
   "cell_type": "code",
   "execution_count": 25,
   "metadata": {},
   "outputs": [
    {
     "name": "stdout",
     "output_type": "stream",
     "text": [
      "<class 'pandas.core.frame.DataFrame'>\n",
      "RangeIndex: 9999 entries, 0 to 9998\n",
      "Data columns (total 9 columns):\n",
      " #   Column    Non-Null Count  Dtype  \n",
      "---  ------    --------------  -----  \n",
      " 0   MOVIES    9999 non-null   object \n",
      " 1   YEAR      9999 non-null   object \n",
      " 2   GENRE     9919 non-null   object \n",
      " 3   RATING    8179 non-null   float64\n",
      " 4   ONE-LINE  9999 non-null   object \n",
      " 5   STARS     9999 non-null   object \n",
      " 6   VOTES     8179 non-null   object \n",
      " 7   RunTime   7041 non-null   float64\n",
      " 8   Gross     460 non-null    object \n",
      "dtypes: float64(2), object(7)\n",
      "memory usage: 703.2+ KB\n"
     ]
    }
   ],
   "source": [
    "df.info()"
   ]
  },
  {
   "cell_type": "code",
   "execution_count": 28,
   "metadata": {},
   "outputs": [
    {
     "name": "stdout",
     "output_type": "stream",
     "text": [
      "0    (2020– )\n",
      "Name: YEAR, dtype: object\n"
     ]
    }
   ],
   "source": [
    "new_year=df[\"YEAR\"].mode()\n",
    "print(new_year)"
   ]
  },
  {
   "cell_type": "code",
   "execution_count": null,
   "metadata": {},
   "outputs": [
    {
     "name": "stdout",
     "output_type": "stream",
     "text": [
      "<class 'pandas.core.frame.DataFrame'>\n",
      "RangeIndex: 9999 entries, 0 to 9998\n",
      "Data columns (total 9 columns):\n",
      " #   Column    Non-Null Count  Dtype  \n",
      "---  ------    --------------  -----  \n",
      " 0   MOVIES    9999 non-null   object \n",
      " 1   YEAR      9999 non-null   object \n",
      " 2   GENRE     9919 non-null   object \n",
      " 3   RATING    8179 non-null   float64\n",
      " 4   ONE-LINE  9999 non-null   object \n",
      " 5   STARS     9999 non-null   object \n",
      " 6   VOTES     8179 non-null   object \n",
      " 7   RunTime   7041 non-null   float64\n",
      " 8   Gross     460 non-null    object \n",
      "dtypes: float64(2), object(7)\n",
      "memory usage: 703.2+ KB\n"
     ]
    }
   ],
   "source": [
    "df['YEAR']=df['YEAR'].fillna(new_year)\n",
    "df.info()"
   ]
  },
  {
   "cell_type": "code",
   "execution_count": 62,
   "metadata": {},
   "outputs": [
    {
     "name": "stdout",
     "output_type": "stream",
     "text": [
      "<class 'pandas.core.frame.DataFrame'>\n",
      "RangeIndex: 9999 entries, 0 to 9998\n",
      "Data columns (total 9 columns):\n",
      " #   Column    Non-Null Count  Dtype  \n",
      "---  ------    --------------  -----  \n",
      " 0   MOVIES    9999 non-null   object \n",
      " 1   YEAR      9999 non-null   object \n",
      " 2   GENRE     9919 non-null   object \n",
      " 3   RATING    9999 non-null   float64\n",
      " 4   ONE-LINE  9999 non-null   object \n",
      " 5   STARS     9999 non-null   object \n",
      " 6   VOTES     8179 non-null   object \n",
      " 7   RunTime   9999 non-null   float64\n",
      " 8   Gross     460 non-null    object \n",
      "dtypes: float64(2), object(7)\n",
      "memory usage: 703.2+ KB\n"
     ]
    }
   ],
   "source": [
    "df.info()"
   ]
  },
  {
   "cell_type": "code",
   "execution_count": 71,
   "metadata": {},
   "outputs": [
    {
     "data": {
      "text/html": [
       "<div>\n",
       "<style scoped>\n",
       "    .dataframe tbody tr th:only-of-type {\n",
       "        vertical-align: middle;\n",
       "    }\n",
       "\n",
       "    .dataframe tbody tr th {\n",
       "        vertical-align: top;\n",
       "    }\n",
       "\n",
       "    .dataframe thead th {\n",
       "        text-align: right;\n",
       "    }\n",
       "</style>\n",
       "<table border=\"1\" class=\"dataframe\">\n",
       "  <thead>\n",
       "    <tr style=\"text-align: right;\">\n",
       "      <th></th>\n",
       "      <th>MOVIES</th>\n",
       "      <th>YEAR</th>\n",
       "      <th>RATING</th>\n",
       "      <th>ONE-LINE</th>\n",
       "      <th>STARS</th>\n",
       "      <th>RunTime</th>\n",
       "    </tr>\n",
       "  </thead>\n",
       "  <tbody>\n",
       "    <tr>\n",
       "      <th>0</th>\n",
       "      <td>Blood Red Sky</td>\n",
       "      <td>(2021)</td>\n",
       "      <td>6.100000</td>\n",
       "      <td>\\nA woman with a mysterious illness is forced ...</td>\n",
       "      <td>\\n    Director:\\nPeter Thorwarth\\n| \\n    Star...</td>\n",
       "      <td>121.000000</td>\n",
       "    </tr>\n",
       "    <tr>\n",
       "      <th>1</th>\n",
       "      <td>Masters of the Universe: Revelation</td>\n",
       "      <td>(2021– )</td>\n",
       "      <td>5.000000</td>\n",
       "      <td>\\nThe war for Eternia begins again in what may...</td>\n",
       "      <td>\\n            \\n    Stars:\\nChris Wood, \\nSara...</td>\n",
       "      <td>25.000000</td>\n",
       "    </tr>\n",
       "    <tr>\n",
       "      <th>2</th>\n",
       "      <td>The Walking Dead</td>\n",
       "      <td>(2010–2022)</td>\n",
       "      <td>8.200000</td>\n",
       "      <td>\\nSheriff Deputy Rick Grimes wakes up from a c...</td>\n",
       "      <td>\\n            \\n    Stars:\\nAndrew Lincoln, \\n...</td>\n",
       "      <td>44.000000</td>\n",
       "    </tr>\n",
       "    <tr>\n",
       "      <th>3</th>\n",
       "      <td>Rick and Morty</td>\n",
       "      <td>(2013– )</td>\n",
       "      <td>9.200000</td>\n",
       "      <td>\\nAn animated series that follows the exploits...</td>\n",
       "      <td>\\n            \\n    Stars:\\nJustin Roiland, \\n...</td>\n",
       "      <td>23.000000</td>\n",
       "    </tr>\n",
       "    <tr>\n",
       "      <th>4</th>\n",
       "      <td>Army of Thieves</td>\n",
       "      <td>(2021)</td>\n",
       "      <td>6.921176</td>\n",
       "      <td>\\nA prequel, set before the events of Army of ...</td>\n",
       "      <td>\\n    Director:\\nMatthias Schweighöfer\\n| \\n  ...</td>\n",
       "      <td>68.688539</td>\n",
       "    </tr>\n",
       "    <tr>\n",
       "      <th>...</th>\n",
       "      <td>...</td>\n",
       "      <td>...</td>\n",
       "      <td>...</td>\n",
       "      <td>...</td>\n",
       "      <td>...</td>\n",
       "      <td>...</td>\n",
       "    </tr>\n",
       "    <tr>\n",
       "      <th>9994</th>\n",
       "      <td>The Imperfects</td>\n",
       "      <td>(2021– )</td>\n",
       "      <td>6.921176</td>\n",
       "      <td>\\nAdd a Plot\\n</td>\n",
       "      <td>\\n            \\n    Stars:\\nMorgan Taylor Camp...</td>\n",
       "      <td>68.688539</td>\n",
       "    </tr>\n",
       "    <tr>\n",
       "      <th>9995</th>\n",
       "      <td>Arcane</td>\n",
       "      <td>(2021– )</td>\n",
       "      <td>6.921176</td>\n",
       "      <td>\\nAdd a Plot\\n</td>\n",
       "      <td>\\n</td>\n",
       "      <td>68.688539</td>\n",
       "    </tr>\n",
       "    <tr>\n",
       "      <th>9996</th>\n",
       "      <td>Heart of Invictus</td>\n",
       "      <td>(2022– )</td>\n",
       "      <td>6.921176</td>\n",
       "      <td>\\nAdd a Plot\\n</td>\n",
       "      <td>\\n    Director:\\nOrlando von Einsiedel\\n| \\n  ...</td>\n",
       "      <td>68.688539</td>\n",
       "    </tr>\n",
       "    <tr>\n",
       "      <th>9997</th>\n",
       "      <td>The Imperfects</td>\n",
       "      <td>(2021– )</td>\n",
       "      <td>6.921176</td>\n",
       "      <td>\\nAdd a Plot\\n</td>\n",
       "      <td>\\n    Director:\\nJovanka Vuckovic\\n| \\n    Sta...</td>\n",
       "      <td>68.688539</td>\n",
       "    </tr>\n",
       "    <tr>\n",
       "      <th>9998</th>\n",
       "      <td>The Imperfects</td>\n",
       "      <td>(2021– )</td>\n",
       "      <td>6.921176</td>\n",
       "      <td>\\nAdd a Plot\\n</td>\n",
       "      <td>\\n    Director:\\nJovanka Vuckovic\\n| \\n    Sta...</td>\n",
       "      <td>68.688539</td>\n",
       "    </tr>\n",
       "  </tbody>\n",
       "</table>\n",
       "<p>9999 rows × 6 columns</p>\n",
       "</div>"
      ],
      "text/plain": [
       "                                   MOVIES         YEAR    RATING  \\\n",
       "0                           Blood Red Sky       (2021)  6.100000   \n",
       "1     Masters of the Universe: Revelation     (2021– )  5.000000   \n",
       "2                        The Walking Dead  (2010–2022)  8.200000   \n",
       "3                          Rick and Morty     (2013– )  9.200000   \n",
       "4                         Army of Thieves       (2021)  6.921176   \n",
       "...                                   ...          ...       ...   \n",
       "9994                       The Imperfects     (2021– )  6.921176   \n",
       "9995                               Arcane     (2021– )  6.921176   \n",
       "9996                    Heart of Invictus     (2022– )  6.921176   \n",
       "9997                       The Imperfects     (2021– )  6.921176   \n",
       "9998                       The Imperfects     (2021– )  6.921176   \n",
       "\n",
       "                                               ONE-LINE  \\\n",
       "0     \\nA woman with a mysterious illness is forced ...   \n",
       "1     \\nThe war for Eternia begins again in what may...   \n",
       "2     \\nSheriff Deputy Rick Grimes wakes up from a c...   \n",
       "3     \\nAn animated series that follows the exploits...   \n",
       "4     \\nA prequel, set before the events of Army of ...   \n",
       "...                                                 ...   \n",
       "9994                                     \\nAdd a Plot\\n   \n",
       "9995                                     \\nAdd a Plot\\n   \n",
       "9996                                     \\nAdd a Plot\\n   \n",
       "9997                                     \\nAdd a Plot\\n   \n",
       "9998                                     \\nAdd a Plot\\n   \n",
       "\n",
       "                                                  STARS     RunTime  \n",
       "0     \\n    Director:\\nPeter Thorwarth\\n| \\n    Star...  121.000000  \n",
       "1     \\n            \\n    Stars:\\nChris Wood, \\nSara...   25.000000  \n",
       "2     \\n            \\n    Stars:\\nAndrew Lincoln, \\n...   44.000000  \n",
       "3     \\n            \\n    Stars:\\nJustin Roiland, \\n...   23.000000  \n",
       "4     \\n    Director:\\nMatthias Schweighöfer\\n| \\n  ...   68.688539  \n",
       "...                                                 ...         ...  \n",
       "9994  \\n            \\n    Stars:\\nMorgan Taylor Camp...   68.688539  \n",
       "9995                                                 \\n   68.688539  \n",
       "9996  \\n    Director:\\nOrlando von Einsiedel\\n| \\n  ...   68.688539  \n",
       "9997  \\n    Director:\\nJovanka Vuckovic\\n| \\n    Sta...   68.688539  \n",
       "9998  \\n    Director:\\nJovanka Vuckovic\\n| \\n    Sta...   68.688539  \n",
       "\n",
       "[9999 rows x 6 columns]"
      ]
     },
     "execution_count": 71,
     "metadata": {},
     "output_type": "execute_result"
    }
   ],
   "source": [
    "#delete the row with missing value\n",
    "df.dropna(axis=1)"
   ]
  },
  {
   "cell_type": "code",
   "execution_count": 70,
   "metadata": {},
   "outputs": [
    {
     "name": "stdout",
     "output_type": "stream",
     "text": [
      "<class 'pandas.core.frame.DataFrame'>\n",
      "RangeIndex: 9999 entries, 0 to 9998\n",
      "Data columns (total 9 columns):\n",
      " #   Column    Non-Null Count  Dtype  \n",
      "---  ------    --------------  -----  \n",
      " 0   MOVIES    9999 non-null   object \n",
      " 1   YEAR      9999 non-null   object \n",
      " 2   GENRE     9919 non-null   object \n",
      " 3   RATING    9999 non-null   float64\n",
      " 4   ONE-LINE  9999 non-null   object \n",
      " 5   STARS     9999 non-null   object \n",
      " 6   VOTES     8179 non-null   object \n",
      " 7   RunTime   9999 non-null   float64\n",
      " 8   Gross     460 non-null    object \n",
      "dtypes: float64(2), object(7)\n",
      "memory usage: 703.2+ KB\n"
     ]
    }
   ],
   "source": [
    "df.info()"
   ]
  },
  {
   "cell_type": "code",
   "execution_count": 76,
   "metadata": {},
   "outputs": [],
   "source": [
    "update_df=df.dropna(axis=1)"
   ]
  },
  {
   "cell_type": "code",
   "execution_count": 77,
   "metadata": {},
   "outputs": [
    {
     "name": "stdout",
     "output_type": "stream",
     "text": [
      "<class 'pandas.core.frame.DataFrame'>\n",
      "RangeIndex: 9999 entries, 0 to 9998\n",
      "Data columns (total 6 columns):\n",
      " #   Column    Non-Null Count  Dtype  \n",
      "---  ------    --------------  -----  \n",
      " 0   MOVIES    9999 non-null   object \n",
      " 1   YEAR      9999 non-null   object \n",
      " 2   RATING    9999 non-null   float64\n",
      " 3   ONE-LINE  9999 non-null   object \n",
      " 4   STARS     9999 non-null   object \n",
      " 5   RunTime   9999 non-null   float64\n",
      "dtypes: float64(2), object(4)\n",
      "memory usage: 468.8+ KB\n"
     ]
    }
   ],
   "source": [
    "update_df.info()"
   ]
  }
 ],
 "metadata": {
  "kernelspec": {
   "display_name": "Python 3",
   "language": "python",
   "name": "python3"
  },
  "language_info": {
   "codemirror_mode": {
    "name": "ipython",
    "version": 3
   },
   "file_extension": ".py",
   "mimetype": "text/x-python",
   "name": "python",
   "nbconvert_exporter": "python",
   "pygments_lexer": "ipython3",
   "version": "3.13.0"
  }
 },
 "nbformat": 4,
 "nbformat_minor": 2
}
